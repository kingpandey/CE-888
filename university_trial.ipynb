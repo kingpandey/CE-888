{
  "metadata": {
    "kernelspec": {
      "language": "python",
      "display_name": "Python 3",
      "name": "python3"
    },
    "language_info": {
      "name": "python",
      "version": "3.7.12",
      "mimetype": "text/x-python",
      "codemirror_mode": {
        "name": "ipython",
        "version": 3
      },
      "pygments_lexer": "ipython3",
      "nbconvert_exporter": "python",
      "file_extension": ".py"
    },
    "colab": {
      "provenance": []
    },
    "accelerator": "GPU",
    "gpuClass": "standard"
  },
  "nbformat_minor": 0,
  "nbformat": 4,
  "cells": [
    {
      "cell_type": "markdown",
      "source": [
        "# Loading the important libraries"
      ],
      "metadata": {
        "id": "aai06KeNeSzW"
      }
    },
    {
      "cell_type": "code",
      "source": [
        "#used for the preprocessing of the data\n",
        "import pandas as pd\n",
        "import numpy as np\n",
        "import matplotlib.pyplot as plt\n",
        "import seaborn as sns\n",
        "\n",
        "#used for the modelling purpose\n",
        "from imblearn.over_sampling import SMOTE\n",
        "from sklearn.linear_model import LogisticRegression\n",
        "from sklearn.model_selection import train_test_split\n",
        "from sklearn.metrics import accuracy_score, confusion_matrix ,classification_report\n",
        "from sklearn.preprocessing import StandardScaler, MinMaxScaler\n",
        "from sklearn.utils.class_weight import compute_class_weight\n",
        "from sklearn.metrics import accuracy_score, precision_score, recall_score, f1_score\n",
        "from sklearn.ensemble import RandomForestClassifier\n",
        "from sklearn.model_selection import cross_val_score, learning_curve, validation_curve\n"
      ],
      "metadata": {
        "execution": {
          "iopub.status.busy": "2023-04-09T19:43:54.673587Z",
          "iopub.execute_input": "2023-04-09T19:43:54.674033Z",
          "iopub.status.idle": "2023-04-09T19:43:54.680163Z",
          "shell.execute_reply.started": "2023-04-09T19:43:54.673979Z",
          "shell.execute_reply": "2023-04-09T19:43:54.678654Z"
        },
        "trusted": true,
        "id": "aTztfxHl0Q8U"
      },
      "execution_count": 92,
      "outputs": []
    },
    {
      "cell_type": "code",
      "source": [
        "from google.colab import drive\n",
        "drive.mount('/content/drive')"
      ],
      "metadata": {
        "colab": {
          "base_uri": "https://localhost:8080/"
        },
        "id": "7usDJxmv0SpR",
        "outputId": "ecb850dc-4887-4017-f07f-0ea1fcab7455"
      },
      "execution_count": 93,
      "outputs": [
        {
          "output_type": "stream",
          "name": "stdout",
          "text": [
            "Drive already mounted at /content/drive; to attempt to forcibly remount, call drive.mount(\"/content/drive\", force_remount=True).\n"
          ]
        }
      ]
    },
    {
      "cell_type": "markdown",
      "source": [
        "Loading the dataset"
      ],
      "metadata": {
        "id": "EH8jvKNwepw-"
      }
    },
    {
      "cell_type": "code",
      "source": [
        "data = pd.read_csv('/content/drive/MyDrive/proj_ana_02/Improved_All_Combined_hr_rsp_binary.csv/Improved_All_Combined_hr_rsp_binary.csv')"
      ],
      "metadata": {
        "execution": {
          "iopub.status.busy": "2023-04-09T19:43:54.682226Z",
          "iopub.execute_input": "2023-04-09T19:43:54.682808Z",
          "iopub.status.idle": "2023-04-09T19:43:54.742867Z",
          "shell.execute_reply.started": "2023-04-09T19:43:54.682770Z",
          "shell.execute_reply": "2023-04-09T19:43:54.741298Z"
        },
        "trusted": true,
        "id": "x5-TDt_y0Q8V"
      },
      "execution_count": 94,
      "outputs": []
    },
    {
      "cell_type": "code",
      "source": [
        "data.head() #printing the head of the dataset"
      ],
      "metadata": {
        "execution": {
          "iopub.status.busy": "2023-04-09T19:43:54.744761Z",
          "iopub.execute_input": "2023-04-09T19:43:54.745219Z",
          "iopub.status.idle": "2023-04-09T19:43:54.757331Z",
          "shell.execute_reply.started": "2023-04-09T19:43:54.745180Z",
          "shell.execute_reply": "2023-04-09T19:43:54.756077Z"
        },
        "trusted": true,
        "id": "R58Uuhj70Q8V",
        "colab": {
          "base_uri": "https://localhost:8080/",
          "height": 206
        },
        "outputId": "3cef9191-17ba-49cd-8513-d8de7ee02f58"
      },
      "execution_count": 95,
      "outputs": [
        {
          "output_type": "execute_result",
          "data": {
            "text/plain": [
              "   Participant      HR      respr   Time(sec)  Label\n",
              "0            2  118.00  12.127693  1644227583      0\n",
              "1            2  113.50  12.127693  1644227584      0\n",
              "2            2   93.00  12.127693  1644227585      0\n",
              "3            2   93.25  12.127693  1644227586      0\n",
              "4            2   86.40  12.127693  1644227587      0"
            ],
            "text/html": [
              "\n",
              "  <div id=\"df-9c855a0d-49c1-44e0-9919-93d9a4846304\">\n",
              "    <div class=\"colab-df-container\">\n",
              "      <div>\n",
              "<style scoped>\n",
              "    .dataframe tbody tr th:only-of-type {\n",
              "        vertical-align: middle;\n",
              "    }\n",
              "\n",
              "    .dataframe tbody tr th {\n",
              "        vertical-align: top;\n",
              "    }\n",
              "\n",
              "    .dataframe thead th {\n",
              "        text-align: right;\n",
              "    }\n",
              "</style>\n",
              "<table border=\"1\" class=\"dataframe\">\n",
              "  <thead>\n",
              "    <tr style=\"text-align: right;\">\n",
              "      <th></th>\n",
              "      <th>Participant</th>\n",
              "      <th>HR</th>\n",
              "      <th>respr</th>\n",
              "      <th>Time(sec)</th>\n",
              "      <th>Label</th>\n",
              "    </tr>\n",
              "  </thead>\n",
              "  <tbody>\n",
              "    <tr>\n",
              "      <th>0</th>\n",
              "      <td>2</td>\n",
              "      <td>118.00</td>\n",
              "      <td>12.127693</td>\n",
              "      <td>1644227583</td>\n",
              "      <td>0</td>\n",
              "    </tr>\n",
              "    <tr>\n",
              "      <th>1</th>\n",
              "      <td>2</td>\n",
              "      <td>113.50</td>\n",
              "      <td>12.127693</td>\n",
              "      <td>1644227584</td>\n",
              "      <td>0</td>\n",
              "    </tr>\n",
              "    <tr>\n",
              "      <th>2</th>\n",
              "      <td>2</td>\n",
              "      <td>93.00</td>\n",
              "      <td>12.127693</td>\n",
              "      <td>1644227585</td>\n",
              "      <td>0</td>\n",
              "    </tr>\n",
              "    <tr>\n",
              "      <th>3</th>\n",
              "      <td>2</td>\n",
              "      <td>93.25</td>\n",
              "      <td>12.127693</td>\n",
              "      <td>1644227586</td>\n",
              "      <td>0</td>\n",
              "    </tr>\n",
              "    <tr>\n",
              "      <th>4</th>\n",
              "      <td>2</td>\n",
              "      <td>86.40</td>\n",
              "      <td>12.127693</td>\n",
              "      <td>1644227587</td>\n",
              "      <td>0</td>\n",
              "    </tr>\n",
              "  </tbody>\n",
              "</table>\n",
              "</div>\n",
              "      <button class=\"colab-df-convert\" onclick=\"convertToInteractive('df-9c855a0d-49c1-44e0-9919-93d9a4846304')\"\n",
              "              title=\"Convert this dataframe to an interactive table.\"\n",
              "              style=\"display:none;\">\n",
              "        \n",
              "  <svg xmlns=\"http://www.w3.org/2000/svg\" height=\"24px\"viewBox=\"0 0 24 24\"\n",
              "       width=\"24px\">\n",
              "    <path d=\"M0 0h24v24H0V0z\" fill=\"none\"/>\n",
              "    <path d=\"M18.56 5.44l.94 2.06.94-2.06 2.06-.94-2.06-.94-.94-2.06-.94 2.06-2.06.94zm-11 1L8.5 8.5l.94-2.06 2.06-.94-2.06-.94L8.5 2.5l-.94 2.06-2.06.94zm10 10l.94 2.06.94-2.06 2.06-.94-2.06-.94-.94-2.06-.94 2.06-2.06.94z\"/><path d=\"M17.41 7.96l-1.37-1.37c-.4-.4-.92-.59-1.43-.59-.52 0-1.04.2-1.43.59L10.3 9.45l-7.72 7.72c-.78.78-.78 2.05 0 2.83L4 21.41c.39.39.9.59 1.41.59.51 0 1.02-.2 1.41-.59l7.78-7.78 2.81-2.81c.8-.78.8-2.07 0-2.86zM5.41 20L4 18.59l7.72-7.72 1.47 1.35L5.41 20z\"/>\n",
              "  </svg>\n",
              "      </button>\n",
              "      \n",
              "  <style>\n",
              "    .colab-df-container {\n",
              "      display:flex;\n",
              "      flex-wrap:wrap;\n",
              "      gap: 12px;\n",
              "    }\n",
              "\n",
              "    .colab-df-convert {\n",
              "      background-color: #E8F0FE;\n",
              "      border: none;\n",
              "      border-radius: 50%;\n",
              "      cursor: pointer;\n",
              "      display: none;\n",
              "      fill: #1967D2;\n",
              "      height: 32px;\n",
              "      padding: 0 0 0 0;\n",
              "      width: 32px;\n",
              "    }\n",
              "\n",
              "    .colab-df-convert:hover {\n",
              "      background-color: #E2EBFA;\n",
              "      box-shadow: 0px 1px 2px rgba(60, 64, 67, 0.3), 0px 1px 3px 1px rgba(60, 64, 67, 0.15);\n",
              "      fill: #174EA6;\n",
              "    }\n",
              "\n",
              "    [theme=dark] .colab-df-convert {\n",
              "      background-color: #3B4455;\n",
              "      fill: #D2E3FC;\n",
              "    }\n",
              "\n",
              "    [theme=dark] .colab-df-convert:hover {\n",
              "      background-color: #434B5C;\n",
              "      box-shadow: 0px 1px 3px 1px rgba(0, 0, 0, 0.15);\n",
              "      filter: drop-shadow(0px 1px 2px rgba(0, 0, 0, 0.3));\n",
              "      fill: #FFFFFF;\n",
              "    }\n",
              "  </style>\n",
              "\n",
              "      <script>\n",
              "        const buttonEl =\n",
              "          document.querySelector('#df-9c855a0d-49c1-44e0-9919-93d9a4846304 button.colab-df-convert');\n",
              "        buttonEl.style.display =\n",
              "          google.colab.kernel.accessAllowed ? 'block' : 'none';\n",
              "\n",
              "        async function convertToInteractive(key) {\n",
              "          const element = document.querySelector('#df-9c855a0d-49c1-44e0-9919-93d9a4846304');\n",
              "          const dataTable =\n",
              "            await google.colab.kernel.invokeFunction('convertToInteractive',\n",
              "                                                     [key], {});\n",
              "          if (!dataTable) return;\n",
              "\n",
              "          const docLinkHtml = 'Like what you see? Visit the ' +\n",
              "            '<a target=\"_blank\" href=https://colab.research.google.com/notebooks/data_table.ipynb>data table notebook</a>'\n",
              "            + ' to learn more about interactive tables.';\n",
              "          element.innerHTML = '';\n",
              "          dataTable['output_type'] = 'display_data';\n",
              "          await google.colab.output.renderOutput(dataTable, element);\n",
              "          const docLink = document.createElement('div');\n",
              "          docLink.innerHTML = docLinkHtml;\n",
              "          element.appendChild(docLink);\n",
              "        }\n",
              "      </script>\n",
              "    </div>\n",
              "  </div>\n",
              "  "
            ]
          },
          "metadata": {},
          "execution_count": 95
        }
      ]
    },
    {
      "cell_type": "code",
      "source": [
        "data.shape #finding the shape of the dataset"
      ],
      "metadata": {
        "execution": {
          "iopub.status.busy": "2023-04-09T19:43:54.758816Z",
          "iopub.execute_input": "2023-04-09T19:43:54.759213Z",
          "iopub.status.idle": "2023-04-09T19:43:54.772855Z",
          "shell.execute_reply.started": "2023-04-09T19:43:54.759176Z",
          "shell.execute_reply": "2023-04-09T19:43:54.771266Z"
        },
        "trusted": true,
        "id": "7ybWJppE0Q8W",
        "colab": {
          "base_uri": "https://localhost:8080/"
        },
        "outputId": "8ffddbc9-207a-4ae2-ca6f-ea22a6d20d56"
      },
      "execution_count": 96,
      "outputs": [
        {
          "output_type": "execute_result",
          "data": {
            "text/plain": [
              "(112516, 5)"
            ]
          },
          "metadata": {},
          "execution_count": 96
        }
      ]
    },
    {
      "cell_type": "code",
      "source": [
        "data.describe() #finding out the summary of the dataset"
      ],
      "metadata": {
        "execution": {
          "iopub.status.busy": "2023-04-09T19:43:54.775163Z",
          "iopub.execute_input": "2023-04-09T19:43:54.775475Z",
          "iopub.status.idle": "2023-04-09T19:43:54.824001Z",
          "shell.execute_reply.started": "2023-04-09T19:43:54.775444Z",
          "shell.execute_reply": "2023-04-09T19:43:54.821983Z"
        },
        "trusted": true,
        "id": "yUx9nfT30Q8W",
        "colab": {
          "base_uri": "https://localhost:8080/",
          "height": 300
        },
        "outputId": "48e24324-1cf4-4a7a-95cd-96a81422560f"
      },
      "execution_count": 97,
      "outputs": [
        {
          "output_type": "execute_result",
          "data": {
            "text/plain": [
              "         Participant             HR          respr     Time(sec)  \\\n",
              "count  112516.000000  112472.000000  112516.000000  1.125160e+05   \n",
              "mean       18.475470      80.216177      12.465482  1.645692e+09   \n",
              "std         9.871133      12.732206       2.030810  8.179419e+05   \n",
              "min         2.000000      49.000000       5.204728  1.644228e+09   \n",
              "25%        10.000000      71.330000      11.191843  1.644846e+09   \n",
              "50%        18.000000      77.890000      12.743635  1.645461e+09   \n",
              "75%        27.000000      87.020000      13.877519  1.646648e+09   \n",
              "max        35.000000     146.780000      18.163532  1.646842e+09   \n",
              "\n",
              "               Label  \n",
              "count  112516.000000  \n",
              "mean        0.327198  \n",
              "std         0.469192  \n",
              "min         0.000000  \n",
              "25%         0.000000  \n",
              "50%         0.000000  \n",
              "75%         1.000000  \n",
              "max         1.000000  "
            ],
            "text/html": [
              "\n",
              "  <div id=\"df-5ab38b38-97e3-4db9-b089-a43505fbdeb0\">\n",
              "    <div class=\"colab-df-container\">\n",
              "      <div>\n",
              "<style scoped>\n",
              "    .dataframe tbody tr th:only-of-type {\n",
              "        vertical-align: middle;\n",
              "    }\n",
              "\n",
              "    .dataframe tbody tr th {\n",
              "        vertical-align: top;\n",
              "    }\n",
              "\n",
              "    .dataframe thead th {\n",
              "        text-align: right;\n",
              "    }\n",
              "</style>\n",
              "<table border=\"1\" class=\"dataframe\">\n",
              "  <thead>\n",
              "    <tr style=\"text-align: right;\">\n",
              "      <th></th>\n",
              "      <th>Participant</th>\n",
              "      <th>HR</th>\n",
              "      <th>respr</th>\n",
              "      <th>Time(sec)</th>\n",
              "      <th>Label</th>\n",
              "    </tr>\n",
              "  </thead>\n",
              "  <tbody>\n",
              "    <tr>\n",
              "      <th>count</th>\n",
              "      <td>112516.000000</td>\n",
              "      <td>112472.000000</td>\n",
              "      <td>112516.000000</td>\n",
              "      <td>1.125160e+05</td>\n",
              "      <td>112516.000000</td>\n",
              "    </tr>\n",
              "    <tr>\n",
              "      <th>mean</th>\n",
              "      <td>18.475470</td>\n",
              "      <td>80.216177</td>\n",
              "      <td>12.465482</td>\n",
              "      <td>1.645692e+09</td>\n",
              "      <td>0.327198</td>\n",
              "    </tr>\n",
              "    <tr>\n",
              "      <th>std</th>\n",
              "      <td>9.871133</td>\n",
              "      <td>12.732206</td>\n",
              "      <td>2.030810</td>\n",
              "      <td>8.179419e+05</td>\n",
              "      <td>0.469192</td>\n",
              "    </tr>\n",
              "    <tr>\n",
              "      <th>min</th>\n",
              "      <td>2.000000</td>\n",
              "      <td>49.000000</td>\n",
              "      <td>5.204728</td>\n",
              "      <td>1.644228e+09</td>\n",
              "      <td>0.000000</td>\n",
              "    </tr>\n",
              "    <tr>\n",
              "      <th>25%</th>\n",
              "      <td>10.000000</td>\n",
              "      <td>71.330000</td>\n",
              "      <td>11.191843</td>\n",
              "      <td>1.644846e+09</td>\n",
              "      <td>0.000000</td>\n",
              "    </tr>\n",
              "    <tr>\n",
              "      <th>50%</th>\n",
              "      <td>18.000000</td>\n",
              "      <td>77.890000</td>\n",
              "      <td>12.743635</td>\n",
              "      <td>1.645461e+09</td>\n",
              "      <td>0.000000</td>\n",
              "    </tr>\n",
              "    <tr>\n",
              "      <th>75%</th>\n",
              "      <td>27.000000</td>\n",
              "      <td>87.020000</td>\n",
              "      <td>13.877519</td>\n",
              "      <td>1.646648e+09</td>\n",
              "      <td>1.000000</td>\n",
              "    </tr>\n",
              "    <tr>\n",
              "      <th>max</th>\n",
              "      <td>35.000000</td>\n",
              "      <td>146.780000</td>\n",
              "      <td>18.163532</td>\n",
              "      <td>1.646842e+09</td>\n",
              "      <td>1.000000</td>\n",
              "    </tr>\n",
              "  </tbody>\n",
              "</table>\n",
              "</div>\n",
              "      <button class=\"colab-df-convert\" onclick=\"convertToInteractive('df-5ab38b38-97e3-4db9-b089-a43505fbdeb0')\"\n",
              "              title=\"Convert this dataframe to an interactive table.\"\n",
              "              style=\"display:none;\">\n",
              "        \n",
              "  <svg xmlns=\"http://www.w3.org/2000/svg\" height=\"24px\"viewBox=\"0 0 24 24\"\n",
              "       width=\"24px\">\n",
              "    <path d=\"M0 0h24v24H0V0z\" fill=\"none\"/>\n",
              "    <path d=\"M18.56 5.44l.94 2.06.94-2.06 2.06-.94-2.06-.94-.94-2.06-.94 2.06-2.06.94zm-11 1L8.5 8.5l.94-2.06 2.06-.94-2.06-.94L8.5 2.5l-.94 2.06-2.06.94zm10 10l.94 2.06.94-2.06 2.06-.94-2.06-.94-.94-2.06-.94 2.06-2.06.94z\"/><path d=\"M17.41 7.96l-1.37-1.37c-.4-.4-.92-.59-1.43-.59-.52 0-1.04.2-1.43.59L10.3 9.45l-7.72 7.72c-.78.78-.78 2.05 0 2.83L4 21.41c.39.39.9.59 1.41.59.51 0 1.02-.2 1.41-.59l7.78-7.78 2.81-2.81c.8-.78.8-2.07 0-2.86zM5.41 20L4 18.59l7.72-7.72 1.47 1.35L5.41 20z\"/>\n",
              "  </svg>\n",
              "      </button>\n",
              "      \n",
              "  <style>\n",
              "    .colab-df-container {\n",
              "      display:flex;\n",
              "      flex-wrap:wrap;\n",
              "      gap: 12px;\n",
              "    }\n",
              "\n",
              "    .colab-df-convert {\n",
              "      background-color: #E8F0FE;\n",
              "      border: none;\n",
              "      border-radius: 50%;\n",
              "      cursor: pointer;\n",
              "      display: none;\n",
              "      fill: #1967D2;\n",
              "      height: 32px;\n",
              "      padding: 0 0 0 0;\n",
              "      width: 32px;\n",
              "    }\n",
              "\n",
              "    .colab-df-convert:hover {\n",
              "      background-color: #E2EBFA;\n",
              "      box-shadow: 0px 1px 2px rgba(60, 64, 67, 0.3), 0px 1px 3px 1px rgba(60, 64, 67, 0.15);\n",
              "      fill: #174EA6;\n",
              "    }\n",
              "\n",
              "    [theme=dark] .colab-df-convert {\n",
              "      background-color: #3B4455;\n",
              "      fill: #D2E3FC;\n",
              "    }\n",
              "\n",
              "    [theme=dark] .colab-df-convert:hover {\n",
              "      background-color: #434B5C;\n",
              "      box-shadow: 0px 1px 3px 1px rgba(0, 0, 0, 0.15);\n",
              "      filter: drop-shadow(0px 1px 2px rgba(0, 0, 0, 0.3));\n",
              "      fill: #FFFFFF;\n",
              "    }\n",
              "  </style>\n",
              "\n",
              "      <script>\n",
              "        const buttonEl =\n",
              "          document.querySelector('#df-5ab38b38-97e3-4db9-b089-a43505fbdeb0 button.colab-df-convert');\n",
              "        buttonEl.style.display =\n",
              "          google.colab.kernel.accessAllowed ? 'block' : 'none';\n",
              "\n",
              "        async function convertToInteractive(key) {\n",
              "          const element = document.querySelector('#df-5ab38b38-97e3-4db9-b089-a43505fbdeb0');\n",
              "          const dataTable =\n",
              "            await google.colab.kernel.invokeFunction('convertToInteractive',\n",
              "                                                     [key], {});\n",
              "          if (!dataTable) return;\n",
              "\n",
              "          const docLinkHtml = 'Like what you see? Visit the ' +\n",
              "            '<a target=\"_blank\" href=https://colab.research.google.com/notebooks/data_table.ipynb>data table notebook</a>'\n",
              "            + ' to learn more about interactive tables.';\n",
              "          element.innerHTML = '';\n",
              "          dataTable['output_type'] = 'display_data';\n",
              "          await google.colab.output.renderOutput(dataTable, element);\n",
              "          const docLink = document.createElement('div');\n",
              "          docLink.innerHTML = docLinkHtml;\n",
              "          element.appendChild(docLink);\n",
              "        }\n",
              "      </script>\n",
              "    </div>\n",
              "  </div>\n",
              "  "
            ]
          },
          "metadata": {},
          "execution_count": 97
        }
      ]
    },
    {
      "cell_type": "code",
      "source": [
        "data.info() #printing the info of the dataset"
      ],
      "metadata": {
        "execution": {
          "iopub.status.busy": "2023-04-09T19:43:54.826053Z",
          "iopub.execute_input": "2023-04-09T19:43:54.826462Z",
          "iopub.status.idle": "2023-04-09T19:43:54.839416Z",
          "shell.execute_reply.started": "2023-04-09T19:43:54.826417Z",
          "shell.execute_reply": "2023-04-09T19:43:54.837985Z"
        },
        "trusted": true,
        "id": "jRChXL7Q0Q8W",
        "colab": {
          "base_uri": "https://localhost:8080/"
        },
        "outputId": "3c26e123-7f6e-4bb9-fac0-cc9479fff16a"
      },
      "execution_count": 98,
      "outputs": [
        {
          "output_type": "stream",
          "name": "stdout",
          "text": [
            "<class 'pandas.core.frame.DataFrame'>\n",
            "RangeIndex: 112516 entries, 0 to 112515\n",
            "Data columns (total 5 columns):\n",
            " #   Column       Non-Null Count   Dtype  \n",
            "---  ------       --------------   -----  \n",
            " 0   Participant  112516 non-null  int64  \n",
            " 1   HR           112472 non-null  float64\n",
            " 2   respr        112516 non-null  float64\n",
            " 3   Time(sec)    112516 non-null  int64  \n",
            " 4   Label        112516 non-null  int64  \n",
            "dtypes: float64(2), int64(3)\n",
            "memory usage: 4.3 MB\n"
          ]
        }
      ]
    },
    {
      "cell_type": "markdown",
      "source": [
        "Checking null values in the dataset"
      ],
      "metadata": {
        "id": "62C7iAlTews8"
      }
    },
    {
      "cell_type": "code",
      "source": [
        "data.isnull().sum() #finding out the null values"
      ],
      "metadata": {
        "execution": {
          "iopub.status.busy": "2023-04-09T19:43:54.840595Z",
          "iopub.execute_input": "2023-04-09T19:43:54.841128Z",
          "iopub.status.idle": "2023-04-09T19:43:54.852997Z",
          "shell.execute_reply.started": "2023-04-09T19:43:54.841099Z",
          "shell.execute_reply": "2023-04-09T19:43:54.851108Z"
        },
        "trusted": true,
        "id": "Xba85HuC0Q8W",
        "colab": {
          "base_uri": "https://localhost:8080/"
        },
        "outputId": "baefe328-f698-48e2-a4b1-60ee3c7f97e0"
      },
      "execution_count": 99,
      "outputs": [
        {
          "output_type": "execute_result",
          "data": {
            "text/plain": [
              "Participant     0\n",
              "HR             44\n",
              "respr           0\n",
              "Time(sec)       0\n",
              "Label           0\n",
              "dtype: int64"
            ]
          },
          "metadata": {},
          "execution_count": 99
        }
      ]
    },
    {
      "cell_type": "code",
      "source": [
        "data = data.dropna() #dropping the null values from the dataset"
      ],
      "metadata": {
        "execution": {
          "iopub.status.busy": "2023-04-10T20:14:42.502847Z",
          "iopub.execute_input": "2023-04-10T20:14:42.503341Z",
          "iopub.status.idle": "2023-04-10T20:14:42.599758Z",
          "shell.execute_reply.started": "2023-04-10T20:14:42.503265Z",
          "shell.execute_reply": "2023-04-10T20:14:42.598050Z"
        },
        "trusted": true,
        "id": "1ZcKuwfX0Q8W"
      },
      "execution_count": 100,
      "outputs": []
    },
    {
      "cell_type": "code",
      "source": [
        "data.isnull().sum()"
      ],
      "metadata": {
        "id": "djpqXL7TFFuW",
        "colab": {
          "base_uri": "https://localhost:8080/"
        },
        "outputId": "a1e24f83-b9cc-4e56-d715-6f3effd7b1df"
      },
      "execution_count": 101,
      "outputs": [
        {
          "output_type": "execute_result",
          "data": {
            "text/plain": [
              "Participant    0\n",
              "HR             0\n",
              "respr          0\n",
              "Time(sec)      0\n",
              "Label          0\n",
              "dtype: int64"
            ]
          },
          "metadata": {},
          "execution_count": 101
        }
      ]
    },
    {
      "cell_type": "code",
      "source": [
        "data['Label'].value_counts() #finding out the labels count in the dataset"
      ],
      "metadata": {
        "execution": {
          "iopub.status.busy": "2023-04-09T19:43:54.854855Z",
          "iopub.execute_input": "2023-04-09T19:43:54.855271Z",
          "iopub.status.idle": "2023-04-09T19:43:54.867575Z",
          "shell.execute_reply.started": "2023-04-09T19:43:54.855230Z",
          "shell.execute_reply": "2023-04-09T19:43:54.865353Z"
        },
        "trusted": true,
        "id": "tk2XxEBe0Q8X",
        "colab": {
          "base_uri": "https://localhost:8080/"
        },
        "outputId": "17f88a05-d67b-4373-96ba-07b65c6bfad3"
      },
      "execution_count": 102,
      "outputs": [
        {
          "output_type": "execute_result",
          "data": {
            "text/plain": [
              "0    75657\n",
              "1    36815\n",
              "Name: Label, dtype: int64"
            ]
          },
          "metadata": {},
          "execution_count": 102
        }
      ]
    },
    {
      "cell_type": "markdown",
      "source": [
        "Doing some Exporatory data analysis on the dataset with the help of visualization."
      ],
      "metadata": {
        "id": "Qdaa7ovZe1cP"
      }
    },
    {
      "cell_type": "code",
      "source": [
        "participant_counts = data['Participant'].value_counts().sort_index()\n",
        "participant_counts.plot.bar()\n",
        "plt.title('Count of Participants')\n",
        "plt.xlabel('Participant')\n",
        "plt.ylabel('Count')\n",
        "plt.show()"
      ],
      "metadata": {
        "execution": {
          "iopub.status.busy": "2023-04-09T19:43:54.869728Z",
          "iopub.execute_input": "2023-04-09T19:43:54.870172Z",
          "iopub.status.idle": "2023-04-09T19:43:55.271963Z",
          "shell.execute_reply.started": "2023-04-09T19:43:54.870133Z",
          "shell.execute_reply": "2023-04-09T19:43:55.270868Z"
        },
        "trusted": true,
        "id": "oCP_zfiF0Q8X",
        "colab": {
          "base_uri": "https://localhost:8080/",
          "height": 475
        },
        "outputId": "1f7498da-4897-4a83-b715-b7d062dee504"
      },
      "execution_count": 103,
      "outputs": [
        {
          "output_type": "display_data",
          "data": {
            "text/plain": [
              "<Figure size 640x480 with 1 Axes>"
            ],
            "image/png": "[encoded data removed]"
          },
          "metadata": {}
        }
      ]
    },
    {
      "cell_type": "code",
      "source": [
        "#plotting the density plot along with the correlation in the dataset\n",
        "sns.kdeplot(data=data, x=\"HR\", y=\"respr\", fill=True)\n",
        "plt.title('Correlation density plot')\n",
        "plt.show()"
      ],
      "metadata": {
        "colab": {
          "base_uri": "https://localhost:8080/",
          "height": 472
        },
        "id": "st8VrP5EF4CO",
        "outputId": "fc57b61e-2b1b-40fb-f122-6bc317822c7a"
      },
      "execution_count": 104,
      "outputs": [
        {
          "output_type": "display_data",
          "data": {
            "text/plain": [
              "<Figure size 640x480 with 1 Axes>"
            ],
            "image/png": "[encoded data removed]"
          },
          "metadata": {}
        }
      ]
    },
    {
      "cell_type": "code",
      "source": [
        "# Plot the data as a histogram\n",
        "plt.hist(data['HR'], bins=30, density=True, alpha=0.5, color='green')\n",
        "\n",
        "# Add labels and title\n",
        "plt.xlabel('X axis label')\n",
        "plt.ylabel('Frequency')\n",
        "plt.title('Continuous variable plot')\n",
        "\n",
        "# Show the plot\n",
        "plt.show()"
      ],
      "metadata": {
        "colab": {
          "base_uri": "https://localhost:8080/",
          "height": 472
        },
        "id": "SM9eeVV5F3qt",
        "outputId": "66206fbf-08e6-4899-ab8a-e50258860550"
      },
      "execution_count": 105,
      "outputs": [
        {
          "output_type": "display_data",
          "data": {
            "text/plain": [
              "<Figure size 640x480 with 1 Axes>"
            ],
            "image/png": "[encoded data removed]"
          },
          "metadata": {}
        }
      ]
    },
    {
      "cell_type": "markdown",
      "source": [
        "Visualizing the distribution of features and checking for the outliers."
      ],
      "metadata": {
        "id": "sY5Icc0SfCfh"
      }
    },
    {
      "cell_type": "code",
      "source": [
        "fig, axs = plt.subplots(figsize=(16, 1))\n",
        "sns.boxplot(x=data['HR'])"
      ],
      "metadata": {
        "colab": {
          "base_uri": "https://localhost:8080/",
          "height": 174
        },
        "id": "5Vy-SddsF3Xh",
        "outputId": "73d78133-09b3-467d-d39c-47799776277e"
      },
      "execution_count": 106,
      "outputs": [
        {
          "output_type": "execute_result",
          "data": {
            "text/plain": [
              "<Axes: xlabel='HR'>"
            ]
          },
          "metadata": {},
          "execution_count": 106
        },
        {
          "output_type": "display_data",
          "data": {
            "text/plain": [
              "<Figure size 1600x100 with 1 Axes>"
            ],
            "image/png": "[encoded data removed]"
          },
          "metadata": {}
        }
      ]
    },
    {
      "cell_type": "code",
      "source": [
        "fig, axs = plt.subplots(figsize=(16, 1))\n",
        "sns.boxplot(x=data['respr'])"
      ],
      "metadata": {
        "colab": {
          "base_uri": "https://localhost:8080/",
          "height": 174
        },
        "id": "6K-MhCs0cUjh",
        "outputId": "2bcc7b5c-535e-404e-87bf-87b0205e52f6"
      },
      "execution_count": 107,
      "outputs": [
        {
          "output_type": "execute_result",
          "data": {
            "text/plain": [
              "<Axes: xlabel='respr'>"
            ]
          },
          "metadata": {},
          "execution_count": 107
        },
        {
          "output_type": "display_data",
          "data": {
            "text/plain": [
              "<Figure size 1600x100 with 1 Axes>"
            ],
            "image/png": "[encoded data removed]"
          },
          "metadata": {}
        }
      ]
    },
    {
      "cell_type": "markdown",
      "source": [
        "# plotting correlation matrix"
      ],
      "metadata": {
        "id": "-T_Qi79zqTjc"
      }
    },
    {
      "cell_type": "code",
      "source": [
        "# Compute the correlation matrix\n",
        "corr = data.corr()\n",
        "\n",
        "# Plot the correlation matrix using a heatmap\n",
        "sns.heatmap(corr, annot=True, cmap='coolwarm')"
      ],
      "metadata": {
        "colab": {
          "base_uri": "https://localhost:8080/",
          "height": 452
        },
        "id": "jii8CAieqRt5",
        "outputId": "a38cd111-8ee0-4eb6-e5d7-828c95f4b3cb"
      },
      "execution_count": 108,
      "outputs": [
        {
          "output_type": "execute_result",
          "data": {
            "text/plain": [
              "<Axes: >"
            ]
          },
          "metadata": {},
          "execution_count": 108
        },
        {
          "output_type": "display_data",
          "data": {
            "text/plain": [
              "<Figure size 640x480 with 2 Axes>"
            ],
            "image/png": "[encoded data removed]"
          },
          "metadata": {}
        }
      ]
    },
    {
      "cell_type": "markdown",
      "source": [
        "# Logisitic Classifier"
      ],
      "metadata": {
        "id": "1ue9Phq0D951"
      }
    },
    {
      "cell_type": "code",
      "source": [
        "X= data.drop('Label',axis=1)\n",
        "y=  data['Label']"
      ],
      "metadata": {
        "id": "yP-jrA4F0Q8Y"
      },
      "execution_count": 109,
      "outputs": []
    },
    {
      "cell_type": "code",
      "source": [
        "\n",
        "# Standardization\n",
        "scaler = StandardScaler()\n",
        "X_std = scaler.fit_transform(X)\n",
        "\n",
        "# Normalization\n",
        "normalizer = MinMaxScaler()\n",
        "X_norm = normalizer.fit_transform(X)"
      ],
      "metadata": {
        "id": "D2qlwkbBn3Lh"
      },
      "execution_count": 110,
      "outputs": []
    },
    {
      "cell_type": "code",
      "source": [
        "# Split the dataset into 80% training, 10% validation, and 10% testing sets\n",
        "from sklearn.model_selection import train_test_split\n",
        "\n",
        "# Split the dataset into 80% training, 10% validation, and 10% testing sets\n",
        "X_train, X_test_rem, y_train, y_test_rem = train_test_split(X_std, y, train_size=0.8, random_state=42)\n",
        "X_test, X_val, y_test, y_val = train_test_split(X_test_rem, y_test_rem, test_size=0.5, random_state=42)\n",
        "\n",
        "\n"
      ],
      "metadata": {
        "id": "ictCFbLZEPpg"
      },
      "execution_count": 111,
      "outputs": []
    },
    {
      "cell_type": "code",
      "source": [
        "data_shape = [X_train, X_test,X_val, y_train, y_test,y_val]\n",
        "\n",
        "for i in data_shape:\n",
        "  print(i.shape)"
      ],
      "metadata": {
        "id": "UaPGE5HB8zPx",
        "colab": {
          "base_uri": "https://localhost:8080/"
        },
        "outputId": "6d3a6174-56b8-4e8a-b20c-45770a065916"
      },
      "execution_count": 112,
      "outputs": [
        {
          "output_type": "stream",
          "name": "stdout",
          "text": [
            "(89977, 4)\n",
            "(11247, 4)\n",
            "(11248, 4)\n",
            "(89977,)\n",
            "(11247,)\n",
            "(11248,)\n"
          ]
        }
      ]
    },
    {
      "cell_type": "code",
      "source": [
        "#Create a logistic regression model\n",
        "lr = LogisticRegression()\n",
        "#Train the model on the train set\n",
        "lr.fit(X_train, y_train)\n",
        "\n",
        "#Predict on the train set\n",
        "y_train_pred = lr.predict(X_train)"
      ],
      "metadata": {
        "id": "Yxk5H8RREnP-"
      },
      "execution_count": 113,
      "outputs": []
    },
    {
      "cell_type": "markdown",
      "source": [
        "Evaluate the model on the train set"
      ],
      "metadata": {
        "id": "t-c2JEXIef-R"
      }
    },
    {
      "cell_type": "code",
      "source": [
        "train_accuracy = accuracy_score(y_train, y_train_pred)\n",
        "train_confusion_matrix = confusion_matrix(y_train, y_train_pred)\n",
        "train_classfication_report_print = classification_report(y_train, y_train_pred, zero_division=1)"
      ],
      "metadata": {
        "id": "1LxEgghWF8nW"
      },
      "execution_count": 114,
      "outputs": []
    },
    {
      "cell_type": "code",
      "source": [
        "#Predict on the test set\n",
        "y_test_pred = lr.predict(X_val)"
      ],
      "metadata": {
        "id": "1Qa51GRyeo7l"
      },
      "execution_count": 115,
      "outputs": []
    },
    {
      "cell_type": "markdown",
      "source": [
        "Evaluate the model on the test set"
      ],
      "metadata": {
        "id": "ihis4ACReu5-"
      }
    },
    {
      "cell_type": "code",
      "source": [
        "test_accuracy = accuracy_score(y_val, y_test_pred)\n",
        "test_confusion_matrix = confusion_matrix(y_val, y_test_pred)\n",
        "test_classfication_report_print = classification_report(y_val, y_test_pred, zero_division=1)\n",
        "\n",
        "print(\"Training Accuracy:\", train_accuracy)\n",
        "print(\"Training Confusion Matrix:\\n\", train_confusion_matrix)\n",
        "print(\"Training Classification Report:\\n\", train_classfication_report_print)\n",
        "\n",
        "print(\"Test Accuracy:\", test_accuracy)\n",
        "print(\"Test Confusion Matrix:\\n\", test_confusion_matrix)\n",
        "print(\"Test Classification Report:\\n\", test_classfication_report_print)"
      ],
      "metadata": {
        "colab": {
          "base_uri": "https://localhost:8080/"
        },
        "id": "eZxfiiwkevio",
        "outputId": "dd2e3831-d285-4e32-9b52-9378694b7c44"
      },
      "execution_count": 116,
      "outputs": [
        {
          "output_type": "stream",
          "name": "stdout",
          "text": [
            "Training Accuracy: 0.6741167187170054\n",
            "Training Confusion Matrix:\n",
            " [[59587   926]\n",
            " [28396  1068]]\n",
            "Training Classification Report:\n",
            "               precision    recall  f1-score   support\n",
            "\n",
            "           0       0.68      0.98      0.80     60513\n",
            "           1       0.54      0.04      0.07     29464\n",
            "\n",
            "    accuracy                           0.67     89977\n",
            "   macro avg       0.61      0.51      0.44     89977\n",
            "weighted avg       0.63      0.67      0.56     89977\n",
            "\n",
            "Test Accuracy: 0.6746977240398293\n",
            "Test Confusion Matrix:\n",
            " [[7467   97]\n",
            " [3562  122]]\n",
            "Test Classification Report:\n",
            "               precision    recall  f1-score   support\n",
            "\n",
            "           0       0.68      0.99      0.80      7564\n",
            "           1       0.56      0.03      0.06      3684\n",
            "\n",
            "    accuracy                           0.67     11248\n",
            "   macro avg       0.62      0.51      0.43     11248\n",
            "weighted avg       0.64      0.67      0.56     11248\n",
            "\n"
          ]
        }
      ]
    },
    {
      "cell_type": "markdown",
      "source": [
        "# Logistic with focus on Class"
      ],
      "metadata": {
        "id": "oaeuZMGam4bT"
      }
    },
    {
      "cell_type": "code",
      "source": [
        "class_weights = compute_class_weight('balanced', classes=np.unique(y), y=y)\n",
        "\n",
        "# create the logistic regression model with class weights\n",
        "model = LogisticRegression(class_weight={0: class_weights[0], 1: class_weights[1]})\n",
        "\n",
        "# train the model on your data\n",
        "model.fit(X_train, y_train)\n",
        "\n",
        "# predict on the validation set\n",
        "y_val_pred = model.predict(X_val)\n",
        "\n",
        "# predict on the training set\n",
        "y_train_pred = model.predict(X_train)\n",
        "\n",
        "# calculate accuracy, confusion matrix, and classification report for validation set\n",
        "val_accuracy = accuracy_score(y_val, y_val_pred)\n",
        "val_confusion_matrix = confusion_matrix(y_val, y_val_pred)\n",
        "val_classification_report_print = classification_report(y_val, y_val_pred, zero_division=1)\n",
        "\n",
        "# calculate accuracy, confusion matrix, and classification report for training set\n",
        "train_accuracy = accuracy_score(y_train, y_train_pred)\n",
        "train_confusion_matrix = confusion_matrix(y_train, y_train_pred)\n",
        "train_classification_report_print = classification_report(y_train, y_train_pred, zero_division=1)\n",
        "\n",
        "print(\"Training Accuracy:\", train_accuracy)\n",
        "print(\"Training Confusion Matrix:\\n\", train_confusion_matrix)\n",
        "print(\"Training Classification Report:\\n\", train_classification_report_print)\n",
        "\n",
        "print(\"Validation Accuracy:\", val_accuracy)\n",
        "print(\"Validation Confusion Matrix:\\n\", val_confusion_matrix)\n",
        "print(\"Validation Classification Report:\\n\", val_classification_report_print)\n",
        "\n",
        "\n"
      ],
      "metadata": {
        "id": "fbvglI4BGPt3",
        "colab": {
          "base_uri": "https://localhost:8080/"
        },
        "outputId": "deaaef36-00b2-4830-fcd3-0f589e660ea6"
      },
      "execution_count": 117,
      "outputs": [
        {
          "output_type": "stream",
          "name": "stdout",
          "text": [
            "Training Accuracy: 0.5735354590617602\n",
            "Training Confusion Matrix:\n",
            " [[37228 23285]\n",
            " [15087 14377]]\n",
            "Training Classification Report:\n",
            "               precision    recall  f1-score   support\n",
            "\n",
            "           0       0.71      0.62      0.66     60513\n",
            "           1       0.38      0.49      0.43     29464\n",
            "\n",
            "    accuracy                           0.57     89977\n",
            "   macro avg       0.55      0.55      0.54     89977\n",
            "weighted avg       0.60      0.57      0.58     89977\n",
            "\n",
            "Validation Accuracy: 0.5769914651493598\n",
            "Validation Confusion Matrix:\n",
            " [[4727 2837]\n",
            " [1921 1763]]\n",
            "Validation Classification Report:\n",
            "               precision    recall  f1-score   support\n",
            "\n",
            "           0       0.71      0.62      0.67      7564\n",
            "           1       0.38      0.48      0.43      3684\n",
            "\n",
            "    accuracy                           0.58     11248\n",
            "   macro avg       0.55      0.55      0.55     11248\n",
            "weighted avg       0.60      0.58      0.59     11248\n",
            "\n"
          ]
        }
      ]
    },
    {
      "cell_type": "markdown",
      "source": [
        "# Random Forest"
      ],
      "metadata": {
        "id": "v3vELNCdfMfa"
      }
    },
    {
      "cell_type": "code",
      "source": [
        "from sklearn.ensemble import RandomForestClassifier\n",
        "\n",
        "# assume X_train, y_train are your training data\n",
        "rf = RandomForestClassifier(class_weight='balanced')\n",
        "rf.fit(X_train, y_train)\n",
        "\n",
        "# predict on the training set\n",
        "y_train_pred = rf.predict(X_train)\n",
        "\n",
        "# predict on the validation set\n",
        "y_val_pred = rf.predict(X_val)\n",
        "\n",
        "# calculate accuracy, confusion matrix, and classification report for validation set\n",
        "val_accuracy = accuracy_score(y_val, y_val_pred)\n",
        "val_confusion_matrix = confusion_matrix(y_val, y_val_pred)\n",
        "val_classification_report_print = classification_report(y_val, y_val_pred, zero_division=1)\n",
        "\n",
        "# calculate accuracy, confusion matrix, and classification report for training set\n",
        "train_accuracy = accuracy_score(y_train, y_train_pred)\n",
        "train_confusion_matrix = confusion_matrix(y_train, y_train_pred)\n",
        "train_classification_report_print = classification_report(y_train, y_train_pred, zero_division=1)\n",
        "\n",
        "print(\"Training Accuracy:\", train_accuracy)\n",
        "print(\"Training Confusion Matrix:\\n\", train_confusion_matrix)\n",
        "print(\"Training Classification Report:\\n\", train_classification_report_print)\n",
        "\n",
        "print(\"Validation Accuracy:\", val_accuracy)\n",
        "print(\"Validation Confusion Matrix:\\n\", val_confusion_matrix)\n",
        "print(\"Validation Classification Report:\\n\", val_classification_report_print)\n"
      ],
      "metadata": {
        "id": "EkYLXJrrNyin",
        "colab": {
          "base_uri": "https://localhost:8080/"
        },
        "outputId": "9a397250-4346-42ec-f8d2-94c6e3308c34"
      },
      "execution_count": 118,
      "outputs": [
        {
          "output_type": "stream",
          "name": "stdout",
          "text": [
            "Training Accuracy: 1.0\n",
            "Training Confusion Matrix:\n",
            " [[60513     0]\n",
            " [    0 29464]]\n",
            "Training Classification Report:\n",
            "               precision    recall  f1-score   support\n",
            "\n",
            "           0       1.00      1.00      1.00     60513\n",
            "           1       1.00      1.00      1.00     29464\n",
            "\n",
            "    accuracy                           1.00     89977\n",
            "   macro avg       1.00      1.00      1.00     89977\n",
            "weighted avg       1.00      1.00      1.00     89977\n",
            "\n",
            "Validation Accuracy: 0.9973328591749644\n",
            "Validation Confusion Matrix:\n",
            " [[7553   11]\n",
            " [  19 3665]]\n",
            "Validation Classification Report:\n",
            "               precision    recall  f1-score   support\n",
            "\n",
            "           0       1.00      1.00      1.00      7564\n",
            "           1       1.00      0.99      1.00      3684\n",
            "\n",
            "    accuracy                           1.00     11248\n",
            "   macro avg       1.00      1.00      1.00     11248\n",
            "weighted avg       1.00      1.00      1.00     11248\n",
            "\n"
          ]
        }
      ]
    },
    {
      "cell_type": "markdown",
      "source": [
        "# Gradient Boosting Algorithm"
      ],
      "metadata": {
        "id": "OSOyLob9fPfc"
      }
    },
    {
      "cell_type": "code",
      "source": [
        "from sklearn.ensemble import GradientBoostingClassifier\n",
        "\n",
        "# assume X_train, y_train are your training data\n",
        "gb = GradientBoostingClassifier()\n",
        "gb.fit(X_train, y_train)\n",
        "\n",
        "# predict on the training set\n",
        "y_train_pred = gb.predict(X_train)\n",
        "\n",
        "# predict on the validation set\n",
        "y_val_pred = gb.predict(X_val)\n",
        "\n",
        "# calculate accuracy, confusion matrix, and classification report for validation set\n",
        "val_accuracy = accuracy_score(y_val, y_val_pred)\n",
        "val_confusion_matrix = confusion_matrix(y_val, y_val_pred)\n",
        "val_classification_report_print = classification_report(y_val, y_val_pred, zero_division=1)\n",
        "\n",
        "# calculate accuracy, confusion matrix, and classification report for training set\n",
        "train_accuracy = accuracy_score(y_train, y_train_pred)\n",
        "train_confusion_matrix = confusion_matrix(y_train, y_train_pred)\n",
        "train_classification_report_print = classification_report(y_train, y_train_pred, zero_division=1)\n",
        "\n",
        "print(\"Training Accuracy:\", train_accuracy)\n",
        "print(\"Training Confusion Matrix:\\n\", train_confusion_matrix)\n",
        "print(\"Training Classification Report:\\n\", train_classification_report_print)\n",
        "\n",
        "print(\"Validation Accuracy:\", val_accuracy)\n",
        "print(\"Validation Confusion Matrix:\\n\", val_confusion_matrix)\n",
        "print(\"Validation Classification Report:\\n\", val_classification_report_print)\n",
        "\n"
      ],
      "metadata": {
        "id": "PHooSkDxN5oH",
        "colab": {
          "base_uri": "https://localhost:8080/"
        },
        "outputId": "0781e9ce-dd4f-48b6-d822-135333e11e7e"
      },
      "execution_count": 119,
      "outputs": [
        {
          "output_type": "stream",
          "name": "stdout",
          "text": [
            "Training Accuracy: 0.7875568200762417\n",
            "Training Confusion Matrix:\n",
            " [[59825   688]\n",
            " [18427 11037]]\n",
            "Training Classification Report:\n",
            "               precision    recall  f1-score   support\n",
            "\n",
            "           0       0.76      0.99      0.86     60513\n",
            "           1       0.94      0.37      0.54     29464\n",
            "\n",
            "    accuracy                           0.79     89977\n",
            "   macro avg       0.85      0.68      0.70     89977\n",
            "weighted avg       0.82      0.79      0.76     89977\n",
            "\n",
            "Validation Accuracy: 0.7852062588904695\n",
            "Validation Confusion Matrix:\n",
            " [[7476   88]\n",
            " [2328 1356]]\n",
            "Validation Classification Report:\n",
            "               precision    recall  f1-score   support\n",
            "\n",
            "           0       0.76      0.99      0.86      7564\n",
            "           1       0.94      0.37      0.53      3684\n",
            "\n",
            "    accuracy                           0.79     11248\n",
            "   macro avg       0.85      0.68      0.69     11248\n",
            "weighted avg       0.82      0.79      0.75     11248\n",
            "\n"
          ]
        }
      ]
    },
    {
      "cell_type": "markdown",
      "source": [
        "# Support Vector Machine"
      ],
      "metadata": {
        "id": "4c3lvOITfTuW"
      }
    },
    {
      "cell_type": "code",
      "source": [
        "from sklearn.svm import SVC\n",
        "\n",
        "# assume X_train, y_train are your training data\n",
        "svm = SVC(class_weight='balanced', C=1.0)\n",
        "svm.fit(X_train, y_train)\n",
        "\n",
        "# predict on the training set\n",
        "y_train_pred = svm.predict(X_train)\n",
        "\n",
        "# predict on the validation set\n",
        "y_val_pred = svm.predict(X_val)\n",
        "\n",
        "# calculate accuracy, confusion matrix, and classification report for validation set\n",
        "val_accuracy = accuracy_score(y_val, y_val_pred)\n",
        "val_confusion_matrix = confusion_matrix(y_val, y_val_pred)\n",
        "val_classification_report_print = classification_report(y_val, y_val_pred, zero_division=1)\n",
        "\n",
        "# calculate accuracy, confusion matrix, and classification report for training set\n",
        "train_accuracy = accuracy_score(y_train, y_train_pred)\n",
        "train_confusion_matrix = confusion_matrix(y_train, y_train_pred)\n",
        "train_classification_report_print = classification_report(y_train, y_train_pred, zero_division=1)\n",
        "\n",
        "print(\"Training Accuracy:\", train_accuracy)\n",
        "print(\"Training Confusion Matrix:\\n\", train_confusion_matrix)\n",
        "print(\"Training Classification Report:\\n\", train_classification_report_print)\n",
        "\n",
        "print(\"Validation Accuracy:\", val_accuracy)\n",
        "print(\"Validation Confusion Matrix:\\n\", val_confusion_matrix)\n",
        "print(\"Validation Classification Report:\\n\", val_classification_report_print)\n"
      ],
      "metadata": {
        "id": "IT-GziiTOAUQ",
        "colab": {
          "base_uri": "https://localhost:8080/"
        },
        "outputId": "8ed4c247-7b09-4244-cfcb-b22ecc10687d"
      },
      "execution_count": 120,
      "outputs": [
        {
          "output_type": "stream",
          "name": "stdout",
          "text": [
            "Training Accuracy: 0.6486546561899152\n",
            "Training Confusion Matrix:\n",
            " [[37264 23249]\n",
            " [ 8364 21100]]\n",
            "Training Classification Report:\n",
            "               precision    recall  f1-score   support\n",
            "\n",
            "           0       0.82      0.62      0.70     60513\n",
            "           1       0.48      0.72      0.57     29464\n",
            "\n",
            "    accuracy                           0.65     89977\n",
            "   macro avg       0.65      0.67      0.64     89977\n",
            "weighted avg       0.71      0.65      0.66     89977\n",
            "\n",
            "Validation Accuracy: 0.6525604551920341\n",
            "Validation Confusion Matrix:\n",
            " [[4710 2854]\n",
            " [1054 2630]]\n",
            "Validation Classification Report:\n",
            "               precision    recall  f1-score   support\n",
            "\n",
            "           0       0.82      0.62      0.71      7564\n",
            "           1       0.48      0.71      0.57      3684\n",
            "\n",
            "    accuracy                           0.65     11248\n",
            "   macro avg       0.65      0.67      0.64     11248\n",
            "weighted avg       0.71      0.65      0.66     11248\n",
            "\n"
          ]
        }
      ]
    },
    {
      "cell_type": "markdown",
      "source": [
        "# K nearest neighbor Classifier"
      ],
      "metadata": {
        "id": "ZNvU2vLzfXSe"
      }
    },
    {
      "cell_type": "code",
      "source": [
        "from sklearn.neighbors import KNeighborsClassifier\n",
        "\n",
        "# assume X_train, y_train are your training data\n",
        "knn = KNeighborsClassifier(weights='distance')\n",
        "knn.fit(X_train, y_train)\n",
        "\n",
        "# predict on the training set\n",
        "y_train_pred = knn.predict(X_train)\n",
        "\n",
        "# predict on the validation set\n",
        "y_val_pred = knn.predict(X_val)\n",
        "\n",
        "# calculate accuracy, confusion matrix, and classification report for validation set\n",
        "val_accuracy = accuracy_score(y_val, y_val_pred)\n",
        "val_confusion_matrix = confusion_matrix(y_val, y_val_pred)\n",
        "val_classification_report_print = classification_report(y_val, y_val_pred, zero_division=1)\n",
        "\n",
        "# calculate accuracy, confusion matrix, and classification report for training set\n",
        "train_accuracy = accuracy_score(y_train, y_train_pred)\n",
        "train_confusion_matrix = confusion_matrix(y_train, y_train_pred)\n",
        "train_classification_report_print = classification_report(y_train, y_train_pred, zero_division=1)\n",
        "\n",
        "print(\"Training Accuracy:\", train_accuracy)\n",
        "print(\"Training Confusion Matrix:\\n\", train_confusion_matrix)\n",
        "print(\"Training Classification Report:\\n\", train_classification_report_print)\n",
        "\n",
        "print(\"Validation Accuracy:\", val_accuracy)\n",
        "print(\"Validation Confusion Matrix:\\n\", val_confusion_matrix)\n",
        "print(\"Validation Classification Report:\\n\", val_classification_report_print)"
      ],
      "metadata": {
        "id": "isoU9pvcOHV3",
        "colab": {
          "base_uri": "https://localhost:8080/"
        },
        "outputId": "9589c292-1aa5-477e-f6b6-d8e7c032f44b"
      },
      "execution_count": 121,
      "outputs": [
        {
          "output_type": "stream",
          "name": "stdout",
          "text": [
            "Training Accuracy: 1.0\n",
            "Training Confusion Matrix:\n",
            " [[60513     0]\n",
            " [    0 29464]]\n",
            "Training Classification Report:\n",
            "               precision    recall  f1-score   support\n",
            "\n",
            "           0       1.00      1.00      1.00     60513\n",
            "           1       1.00      1.00      1.00     29464\n",
            "\n",
            "    accuracy                           1.00     89977\n",
            "   macro avg       1.00      1.00      1.00     89977\n",
            "weighted avg       1.00      1.00      1.00     89977\n",
            "\n",
            "Validation Accuracy: 0.9140291607396871\n",
            "Validation Confusion Matrix:\n",
            " [[7093  471]\n",
            " [ 496 3188]]\n",
            "Validation Classification Report:\n",
            "               precision    recall  f1-score   support\n",
            "\n",
            "           0       0.93      0.94      0.94      7564\n",
            "           1       0.87      0.87      0.87      3684\n",
            "\n",
            "    accuracy                           0.91     11248\n",
            "   macro avg       0.90      0.90      0.90     11248\n",
            "weighted avg       0.91      0.91      0.91     11248\n",
            "\n"
          ]
        }
      ]
    },
    {
      "cell_type": "markdown",
      "source": [
        "# Scaling the dataset"
      ],
      "metadata": {
        "id": "2ezVZVh-fcEX"
      }
    },
    {
      "cell_type": "code",
      "source": [
        "from sklearn.preprocessing import StandardScaler\n",
        "\n",
        "# create a StandardScaler object\n",
        "scaler = StandardScaler()\n",
        "\n",
        "# fit the scaler to your training data\n",
        "scaler.fit(X_train)\n",
        "\n",
        "# transform both the training and testing data using the scaler\n",
        "X_train_scaled = scaler.transform(X_train)\n",
        "X_val_scaled = scaler.transform(X_val)\n"
      ],
      "metadata": {
        "id": "RFNI-XEy3DfQ"
      },
      "execution_count": 122,
      "outputs": []
    },
    {
      "cell_type": "markdown",
      "source": [
        "# Neural Network"
      ],
      "metadata": {
        "id": "LAI4TbWNffdx"
      }
    },
    {
      "cell_type": "code",
      "source": [
        "# Import necessary libraries\n",
        "import numpy as np\n",
        "from keras.models import Sequential\n",
        "from keras.layers import Dense\n",
        "\n",
        "# Define the ANN model\n",
        "model = Sequential()\n",
        "model.add(Dense(8, input_dim=4, activation='relu')) # Input layer\n",
        "model.add(Dense(6, activation='relu')) # Hidden layer\n",
        "model.add(Dense(1, activation='sigmoid')) # Output layer\n",
        "\n",
        "# Compile the model\n",
        "model.compile(loss='binary_crossentropy', optimizer='adam', metrics=['accuracy'])\n",
        "\n",
        "# Train the model\n",
        "model.fit(X_train_scaled, y_train, epochs=50, batch_size=30)"
      ],
      "metadata": {
        "id": "LGlrg7G7V7C6",
        "colab": {
          "base_uri": "https://localhost:8080/"
        },
        "outputId": "dfca4437-136a-4209-fbcb-3a71744d9eab"
      },
      "execution_count": 123,
      "outputs": [
        {
          "output_type": "stream",
          "name": "stdout",
          "text": [
            "Epoch 1/50\n",
            "3000/3000 [==============================] - 6s 2ms/step - loss: 0.6211 - accuracy: 0.6681\n",
            "Epoch 2/50\n",
            "3000/3000 [==============================] - 6s 2ms/step - loss: 0.6070 - accuracy: 0.6852\n",
            "Epoch 3/50\n",
            "3000/3000 [==============================] - 6s 2ms/step - loss: 0.6008 - accuracy: 0.6906\n",
            "Epoch 4/50\n",
            "3000/3000 [==============================] - 5s 2ms/step - loss: 0.5971 - accuracy: 0.6934\n",
            "Epoch 5/50\n",
            "3000/3000 [==============================] - 7s 2ms/step - loss: 0.5949 - accuracy: 0.6949\n",
            "Epoch 6/50\n",
            "3000/3000 [==============================] - 5s 2ms/step - loss: 0.5936 - accuracy: 0.6943\n",
            "Epoch 7/50\n",
            "3000/3000 [==============================] - 6s 2ms/step - loss: 0.5924 - accuracy: 0.6959\n",
            "Epoch 8/50\n",
            "3000/3000 [==============================] - 6s 2ms/step - loss: 0.5916 - accuracy: 0.6952\n",
            "Epoch 9/50\n",
            "3000/3000 [==============================] - 5s 2ms/step - loss: 0.5905 - accuracy: 0.6945\n",
            "Epoch 10/50\n",
            "3000/3000 [==============================] - 7s 2ms/step - loss: 0.5899 - accuracy: 0.6937\n",
            "Epoch 11/50\n",
            "3000/3000 [==============================] - 5s 2ms/step - loss: 0.5893 - accuracy: 0.6925\n",
            "Epoch 12/50\n",
            "3000/3000 [==============================] - 6s 2ms/step - loss: 0.5887 - accuracy: 0.6934\n",
            "Epoch 13/50\n",
            "3000/3000 [==============================] - 6s 2ms/step - loss: 0.5886 - accuracy: 0.6935\n",
            "Epoch 14/50\n",
            "3000/3000 [==============================] - 5s 2ms/step - loss: 0.5884 - accuracy: 0.6916\n",
            "Epoch 15/50\n",
            "3000/3000 [==============================] - 7s 2ms/step - loss: 0.5878 - accuracy: 0.6938\n",
            "Epoch 16/50\n",
            "3000/3000 [==============================] - 5s 2ms/step - loss: 0.5877 - accuracy: 0.6927\n",
            "Epoch 17/50\n",
            "3000/3000 [==============================] - 6s 2ms/step - loss: 0.5873 - accuracy: 0.6932\n",
            "Epoch 18/50\n",
            "3000/3000 [==============================] - 6s 2ms/step - loss: 0.5872 - accuracy: 0.6934\n",
            "Epoch 19/50\n",
            "3000/3000 [==============================] - 5s 2ms/step - loss: 0.5870 - accuracy: 0.6929\n",
            "Epoch 20/50\n",
            "3000/3000 [==============================] - 7s 2ms/step - loss: 0.5866 - accuracy: 0.6942\n",
            "Epoch 21/50\n",
            "3000/3000 [==============================] - 5s 2ms/step - loss: 0.5866 - accuracy: 0.6933\n",
            "Epoch 22/50\n",
            "3000/3000 [==============================] - 6s 2ms/step - loss: 0.5866 - accuracy: 0.6939\n",
            "Epoch 23/50\n",
            "3000/3000 [==============================] - 6s 2ms/step - loss: 0.5864 - accuracy: 0.6934\n",
            "Epoch 24/50\n",
            "3000/3000 [==============================] - 5s 2ms/step - loss: 0.5862 - accuracy: 0.6946\n",
            "Epoch 25/50\n",
            "3000/3000 [==============================] - 7s 2ms/step - loss: 0.5862 - accuracy: 0.6945\n",
            "Epoch 26/50\n",
            "3000/3000 [==============================] - 5s 2ms/step - loss: 0.5861 - accuracy: 0.6946\n",
            "Epoch 27/50\n",
            "3000/3000 [==============================] - 6s 2ms/step - loss: 0.5859 - accuracy: 0.6948\n",
            "Epoch 28/50\n",
            "3000/3000 [==============================] - 6s 2ms/step - loss: 0.5858 - accuracy: 0.6943\n",
            "Epoch 29/50\n",
            "3000/3000 [==============================] - 5s 2ms/step - loss: 0.5859 - accuracy: 0.6944\n",
            "Epoch 30/50\n",
            "3000/3000 [==============================] - 7s 2ms/step - loss: 0.5856 - accuracy: 0.6948\n",
            "Epoch 31/50\n",
            "3000/3000 [==============================] - 5s 2ms/step - loss: 0.5857 - accuracy: 0.6949\n",
            "Epoch 32/50\n",
            "3000/3000 [==============================] - 6s 2ms/step - loss: 0.5854 - accuracy: 0.6957\n",
            "Epoch 33/50\n",
            "3000/3000 [==============================] - 6s 2ms/step - loss: 0.5854 - accuracy: 0.6960\n",
            "Epoch 34/50\n",
            "3000/3000 [==============================] - 5s 2ms/step - loss: 0.5853 - accuracy: 0.6946\n",
            "Epoch 35/50\n",
            "3000/3000 [==============================] - 7s 2ms/step - loss: 0.5852 - accuracy: 0.6945\n",
            "Epoch 36/50\n",
            "3000/3000 [==============================] - 5s 2ms/step - loss: 0.5850 - accuracy: 0.6948\n",
            "Epoch 37/50\n",
            "3000/3000 [==============================] - 6s 2ms/step - loss: 0.5852 - accuracy: 0.6950\n",
            "Epoch 38/50\n",
            "3000/3000 [==============================] - 6s 2ms/step - loss: 0.5850 - accuracy: 0.6944\n",
            "Epoch 39/50\n",
            "3000/3000 [==============================] - 5s 2ms/step - loss: 0.5850 - accuracy: 0.6950\n",
            "Epoch 40/50\n",
            "3000/3000 [==============================] - 7s 2ms/step - loss: 0.5846 - accuracy: 0.6955\n",
            "Epoch 41/50\n",
            "3000/3000 [==============================] - 5s 2ms/step - loss: 0.5846 - accuracy: 0.6955\n",
            "Epoch 42/50\n",
            "3000/3000 [==============================] - 6s 2ms/step - loss: 0.5845 - accuracy: 0.6954\n",
            "Epoch 43/50\n",
            "3000/3000 [==============================] - 6s 2ms/step - loss: 0.5847 - accuracy: 0.6957\n",
            "Epoch 44/50\n",
            "3000/3000 [==============================] - 5s 2ms/step - loss: 0.5844 - accuracy: 0.6955\n",
            "Epoch 45/50\n",
            "3000/3000 [==============================] - 7s 2ms/step - loss: 0.5844 - accuracy: 0.6951\n",
            "Epoch 46/50\n",
            "3000/3000 [==============================] - 5s 2ms/step - loss: 0.5842 - accuracy: 0.6962\n",
            "Epoch 47/50\n",
            "3000/3000 [==============================] - 6s 2ms/step - loss: 0.5842 - accuracy: 0.6958\n",
            "Epoch 48/50\n",
            "3000/3000 [==============================] - 6s 2ms/step - loss: 0.5841 - accuracy: 0.6962\n",
            "Epoch 49/50\n",
            "3000/3000 [==============================] - 5s 2ms/step - loss: 0.5836 - accuracy: 0.6960\n",
            "Epoch 50/50\n",
            "3000/3000 [==============================] - 7s 2ms/step - loss: 0.5832 - accuracy: 0.6960\n"
          ]
        },
        {
          "output_type": "execute_result",
          "data": {
            "text/plain": [
              "<keras.callbacks.History at 0x7f446850bcd0>"
            ]
          },
          "metadata": {},
          "execution_count": 123
        }
      ]
    },
    {
      "cell_type": "code",
      "source": [
        "# import numpy as np\n",
        "\n",
        "# # predict on the validation set\n",
        "# y_val_pred = model.predict(X_val)\n",
        "\n",
        "# # binarize the predictions using a threshold of 0.5\n",
        "# y_val_pred_binary = np.where(y_val_pred > 0.5, 1, 0)\n",
        "\n",
        "# # calculate accuracy, confusion matrix, and classification report for validation set\n",
        "# val_accuracy = accuracy_score(y_val, y_val_pred_binary)\n",
        "# val_confusion_matrix = confusion_matrix(y_val, y_val_pred_binary)\n",
        "# val_classification_report_print = classification_report(y_val, y_val_pred_binary, zero_division=1)\n"
      ],
      "metadata": {
        "colab": {
          "base_uri": "https://localhost:8080/"
        },
        "id": "7MD7h5Q4Yabz",
        "outputId": "6898ad30-a582-4522-fbc0-08608914ee47"
      },
      "execution_count": 124,
      "outputs": [
        {
          "output_type": "stream",
          "name": "stdout",
          "text": [
            "352/352 [==============================] - 0s 1ms/step\n"
          ]
        }
      ]
    },
    {
      "cell_type": "code",
      "source": [
        "# Evaluate the model\n",
        "scores = model.evaluate(X_val_scaled,y_val)\n",
        "print(\"Accuracy: %.2f%%\" % (scores[1]*100))\n",
        "\n",
        "# predict on the training set\n",
        "y_train_pred = model.predict(X_train)\n",
        "\n",
        "# predict on the validation set\n",
        "y_val_pred = model.predict(X_val)\n",
        "\n",
        "# binarize the predictions using a threshold of 0.5\n",
        "y_val_pred_binary = np.where(y_val_pred > 0.5, 1, 0)\n",
        "\n",
        "# binarize the predictions using a threshold of 0.5\n",
        "y_train_pred_binary = np.where(y_train_pred > 0.5, 1, 0)\n",
        "\n",
        "# calculate accuracy, confusion matrix, and classification report for validation set\n",
        "val_accuracy = accuracy_score(y_val, y_val_pred_binary)\n",
        "val_confusion_matrix = confusion_matrix(y_val, y_val_pred_binary)\n",
        "val_classification_report_print = classification_report(y_val, y_val_pred_binary)\n",
        "\n",
        "# calculate accuracy, confusion matrix, and classification report for training set\n",
        "train_accuracy = accuracy_score(y_train, y_train_pred_binary)\n",
        "train_confusion_matrix = confusion_matrix(y_train, y_train_pred_binary)\n",
        "train_classification_report_print = classification_report(y_train, y_train_pred_binary)\n",
        "\n",
        "print(\"Training Accuracy:\", train_accuracy)\n",
        "print(\"Training Confusion Matrix:\\n\", train_confusion_matrix)\n",
        "print(\"Training Classification Report:\\n\", train_classification_report_print)\n",
        "\n",
        "print(\"Validation Accuracy:\", val_accuracy)\n",
        "print(\"Validation Confusion Matrix:\\n\", val_confusion_matrix)\n",
        "print(\"Validation Classification Report:\\n\", val_classification_report_print)"
      ],
      "metadata": {
        "colab": {
          "base_uri": "https://localhost:8080/"
        },
        "id": "4l2qgGxJXOl6",
        "outputId": "99e202f9-b03e-4f8e-91ba-0f5426d10110"
      },
      "execution_count": 125,
      "outputs": [
        {
          "output_type": "stream",
          "name": "stdout",
          "text": [
            "352/352 [==============================] - 1s 1ms/step - loss: 0.5857 - accuracy: 0.6943\n",
            "Accuracy: 69.43%\n",
            "2812/2812 [==============================] - 4s 1ms/step\n",
            "352/352 [==============================] - 0s 1ms/step\n",
            "Training Accuracy: 0.6975671560509908\n",
            "Training Confusion Matrix:\n",
            " [[58853  1660]\n",
            " [25552  3912]]\n",
            "Training Classification Report:\n",
            "               precision    recall  f1-score   support\n",
            "\n",
            "           0       0.70      0.97      0.81     60513\n",
            "           1       0.70      0.13      0.22     29464\n",
            "\n",
            "    accuracy                           0.70     89977\n",
            "   macro avg       0.70      0.55      0.52     89977\n",
            "weighted avg       0.70      0.70      0.62     89977\n",
            "\n",
            "Validation Accuracy: 0.6942567567567568\n",
            "Validation Confusion Matrix:\n",
            " [[7341  223]\n",
            " [3216  468]]\n",
            "Validation Classification Report:\n",
            "               precision    recall  f1-score   support\n",
            "\n",
            "           0       0.70      0.97      0.81      7564\n",
            "           1       0.68      0.13      0.21      3684\n",
            "\n",
            "    accuracy                           0.69     11248\n",
            "   macro avg       0.69      0.55      0.51     11248\n",
            "weighted avg       0.69      0.69      0.61     11248\n",
            "\n"
          ]
        }
      ]
    },
    {
      "cell_type": "code",
      "source": [
        "# Import necessary libraries\n",
        "import numpy as np\n",
        "from keras.models import Sequential\n",
        "from keras.layers import Dense\n",
        "from keras.optimizers import RMSprop\n",
        "\n",
        "# Define the ANN model\n",
        "model = Sequential()\n",
        "model.add(Dense(8, input_dim=4, activation='relu')) # Input layer\n",
        "model.add(Dense(6, activation='relu')) # Hidden layer\n",
        "model.add(Dense(1, activation='sigmoid')) # Output layer\n",
        "\n",
        "# Compile the model\n",
        "model.compile(loss='binary_crossentropy', optimizer=RMSprop(learning_rate=0.001), metrics=['accuracy'])\n",
        "\n",
        "# Train the model\n",
        "model.fit(X_train_scaled, y_train, epochs=50, batch_size=30)"
      ],
      "metadata": {
        "id": "opgpDb_Q5B59",
        "colab": {
          "base_uri": "https://localhost:8080/"
        },
        "outputId": "eb4379f9-69cb-4319-9b07-dc1dac15987e"
      },
      "execution_count": 129,
      "outputs": [
        {
          "output_type": "stream",
          "name": "stdout",
          "text": [
            "Epoch 1/50\n",
            "3000/3000 [==============================] - 6s 2ms/step - loss: 0.6327 - accuracy: 0.6672\n",
            "Epoch 2/50\n",
            "3000/3000 [==============================] - 7s 2ms/step - loss: 0.6090 - accuracy: 0.6907\n",
            "Epoch 3/50\n",
            "3000/3000 [==============================] - 5s 2ms/step - loss: 0.6033 - accuracy: 0.6909\n",
            "Epoch 4/50\n",
            "3000/3000 [==============================] - 6s 2ms/step - loss: 0.5998 - accuracy: 0.6943\n",
            "Epoch 5/50\n",
            "3000/3000 [==============================] - 6s 2ms/step - loss: 0.5959 - accuracy: 0.6950\n",
            "Epoch 6/50\n",
            "3000/3000 [==============================] - 5s 2ms/step - loss: 0.5912 - accuracy: 0.6962\n",
            "Epoch 7/50\n",
            "3000/3000 [==============================] - 7s 2ms/step - loss: 0.5873 - accuracy: 0.6987\n",
            "Epoch 8/50\n",
            "3000/3000 [==============================] - 6s 2ms/step - loss: 0.5846 - accuracy: 0.7009\n",
            "Epoch 9/50\n",
            "3000/3000 [==============================] - 7s 2ms/step - loss: 0.5822 - accuracy: 0.7037\n",
            "Epoch 10/50\n",
            "3000/3000 [==============================] - 6s 2ms/step - loss: 0.5806 - accuracy: 0.7045\n",
            "Epoch 11/50\n",
            "3000/3000 [==============================] - 6s 2ms/step - loss: 0.5794 - accuracy: 0.7025\n",
            "Epoch 12/50\n",
            "3000/3000 [==============================] - 7s 2ms/step - loss: 0.5785 - accuracy: 0.7031\n",
            "Epoch 13/50\n",
            "3000/3000 [==============================] - 5s 2ms/step - loss: 0.5779 - accuracy: 0.7034\n",
            "Epoch 14/50\n",
            "3000/3000 [==============================] - 7s 2ms/step - loss: 0.5773 - accuracy: 0.7042\n",
            "Epoch 15/50\n",
            "3000/3000 [==============================] - 6s 2ms/step - loss: 0.5770 - accuracy: 0.7045\n",
            "Epoch 16/50\n",
            "3000/3000 [==============================] - 7s 2ms/step - loss: 0.5765 - accuracy: 0.7056\n",
            "Epoch 17/50\n",
            "3000/3000 [==============================] - 6s 2ms/step - loss: 0.5764 - accuracy: 0.7055\n",
            "Epoch 18/50\n",
            "3000/3000 [==============================] - 6s 2ms/step - loss: 0.5759 - accuracy: 0.7057\n",
            "Epoch 19/50\n",
            "3000/3000 [==============================] - 7s 2ms/step - loss: 0.5756 - accuracy: 0.7069\n",
            "Epoch 20/50\n",
            "3000/3000 [==============================] - 6s 2ms/step - loss: 0.5751 - accuracy: 0.7070\n",
            "Epoch 21/50\n",
            "3000/3000 [==============================] - 7s 2ms/step - loss: 0.5747 - accuracy: 0.7085\n",
            "Epoch 22/50\n",
            "3000/3000 [==============================] - 5s 2ms/step - loss: 0.5743 - accuracy: 0.7088\n",
            "Epoch 23/50\n",
            "3000/3000 [==============================] - 6s 2ms/step - loss: 0.5739 - accuracy: 0.7104\n",
            "Epoch 24/50\n",
            "3000/3000 [==============================] - 6s 2ms/step - loss: 0.5737 - accuracy: 0.7107\n",
            "Epoch 25/50\n",
            "3000/3000 [==============================] - 6s 2ms/step - loss: 0.5729 - accuracy: 0.7117\n",
            "Epoch 26/50\n",
            "3000/3000 [==============================] - 7s 2ms/step - loss: 0.5725 - accuracy: 0.7121\n",
            "Epoch 27/50\n",
            "3000/3000 [==============================] - 6s 2ms/step - loss: 0.5722 - accuracy: 0.7129\n",
            "Epoch 28/50\n",
            "3000/3000 [==============================] - 7s 2ms/step - loss: 0.5718 - accuracy: 0.7143\n",
            "Epoch 29/50\n",
            "3000/3000 [==============================] - 6s 2ms/step - loss: 0.5713 - accuracy: 0.7148\n",
            "Epoch 30/50\n",
            "3000/3000 [==============================] - 7s 2ms/step - loss: 0.5709 - accuracy: 0.7146\n",
            "Epoch 31/50\n",
            "3000/3000 [==============================] - 7s 2ms/step - loss: 0.5706 - accuracy: 0.7160\n",
            "Epoch 32/50\n",
            "3000/3000 [==============================] - 6s 2ms/step - loss: 0.5704 - accuracy: 0.7158\n",
            "Epoch 33/50\n",
            "3000/3000 [==============================] - 7s 2ms/step - loss: 0.5703 - accuracy: 0.7154\n",
            "Epoch 34/50\n",
            "3000/3000 [==============================] - 6s 2ms/step - loss: 0.5701 - accuracy: 0.7164\n",
            "Epoch 35/50\n",
            "3000/3000 [==============================] - 7s 2ms/step - loss: 0.5703 - accuracy: 0.7166\n",
            "Epoch 36/50\n",
            "3000/3000 [==============================] - 6s 2ms/step - loss: 0.5702 - accuracy: 0.7166\n",
            "Epoch 37/50\n",
            "3000/3000 [==============================] - 8s 3ms/step - loss: 0.5698 - accuracy: 0.7178\n",
            "Epoch 38/50\n",
            "3000/3000 [==============================] - 6s 2ms/step - loss: 0.5695 - accuracy: 0.7181\n",
            "Epoch 39/50\n",
            "3000/3000 [==============================] - 7s 2ms/step - loss: 0.5690 - accuracy: 0.7182\n",
            "Epoch 40/50\n",
            "3000/3000 [==============================] - 7s 2ms/step - loss: 0.5683 - accuracy: 0.7184\n",
            "Epoch 41/50\n",
            "3000/3000 [==============================] - 8s 3ms/step - loss: 0.5677 - accuracy: 0.7180\n",
            "Epoch 42/50\n",
            "3000/3000 [==============================] - 6s 2ms/step - loss: 0.5677 - accuracy: 0.7181\n",
            "Epoch 43/50\n",
            "3000/3000 [==============================] - 6s 2ms/step - loss: 0.5675 - accuracy: 0.7183\n",
            "Epoch 44/50\n",
            "3000/3000 [==============================] - 7s 2ms/step - loss: 0.5675 - accuracy: 0.7176\n",
            "Epoch 45/50\n",
            "3000/3000 [==============================] - 6s 2ms/step - loss: 0.5675 - accuracy: 0.7187\n",
            "Epoch 46/50\n",
            "3000/3000 [==============================] - 8s 3ms/step - loss: 0.5677 - accuracy: 0.7173\n",
            "Epoch 47/50\n",
            "3000/3000 [==============================] - 6s 2ms/step - loss: 0.5672 - accuracy: 0.7167\n",
            "Epoch 48/50\n",
            "3000/3000 [==============================] - 8s 3ms/step - loss: 0.5668 - accuracy: 0.7174\n",
            "Epoch 49/50\n",
            "3000/3000 [==============================] - 6s 2ms/step - loss: 0.5669 - accuracy: 0.7172\n",
            "Epoch 50/50\n",
            "3000/3000 [==============================] - 8s 3ms/step - loss: 0.5662 - accuracy: 0.7177\n"
          ]
        },
        {
          "output_type": "execute_result",
          "data": {
            "text/plain": [
              "<keras.callbacks.History at 0x7f446bc99070>"
            ]
          },
          "metadata": {},
          "execution_count": 129
        }
      ]
    },
    {
      "cell_type": "code",
      "source": [
        "# Evaluate the model\n",
        "scores = model.evaluate(X_val_scaled,y_val)\n",
        "print(\"Accuracy: %.2f%%\" % (scores[1]*100))\n",
        "\n",
        "# predict on the training set\n",
        "y_train_pred = model.predict(X_train)\n",
        "\n",
        "# predict on the validation set\n",
        "y_val_pred = model.predict(X_val)\n",
        "\n",
        "# binarize the predictions using a threshold of 0.5\n",
        "y_val_pred_binary = np.where(y_val_pred > 0.5, 1, 0)\n",
        "\n",
        "# binarize the predictions using a threshold of 0.5\n",
        "y_train_pred_binary = np.where(y_train_pred > 0.5, 1, 0)\n",
        "\n",
        "# calculate accuracy, confusion matrix, and classification report for validation set\n",
        "val_accuracy = accuracy_score(y_val, y_val_pred_binary)\n",
        "val_confusion_matrix = confusion_matrix(y_val, y_val_pred_binary)\n",
        "val_classification_report_print = classification_report(y_val, y_val_pred_binary)\n",
        "\n",
        "# calculate accuracy, confusion matrix, and classification report for training set\n",
        "train_accuracy = accuracy_score(y_train, y_train_pred_binary)\n",
        "train_confusion_matrix = confusion_matrix(y_train, y_train_pred_binary)\n",
        "train_classification_report_print = classification_report(y_train, y_train_pred_binary)\n",
        "\n",
        "print(\"Training Accuracy:\", train_accuracy)\n",
        "print(\"Training Confusion Matrix:\\n\", train_confusion_matrix)\n",
        "print(\"Training Classification Report:\\n\", train_classification_report_print)\n",
        "\n",
        "print(\"Validation Accuracy:\", val_accuracy)\n",
        "print(\"Validation Confusion Matrix:\\n\", val_confusion_matrix)\n",
        "print(\"Validation Classification Report:\\n\", val_classification_report_print)"
      ],
      "metadata": {
        "colab": {
          "base_uri": "https://localhost:8080/"
        },
        "id": "no_414nGZ7mj",
        "outputId": "83e8ee96-12de-4029-c09d-106b5e55a510"
      },
      "execution_count": 130,
      "outputs": [
        {
          "output_type": "stream",
          "name": "stdout",
          "text": [
            "352/352 [==============================] - 1s 2ms/step - loss: 0.5708 - accuracy: 0.7140\n",
            "Accuracy: 71.40%\n",
            "2812/2812 [==============================] - 4s 1ms/step\n",
            "352/352 [==============================] - 1s 2ms/step\n",
            "Training Accuracy: 0.7172499638796581\n",
            "Training Confusion Matrix:\n",
            " [[55522  4991]\n",
            " [20450  9014]]\n",
            "Training Classification Report:\n",
            "               precision    recall  f1-score   support\n",
            "\n",
            "           0       0.73      0.92      0.81     60513\n",
            "           1       0.64      0.31      0.41     29464\n",
            "\n",
            "    accuracy                           0.72     89977\n",
            "   macro avg       0.69      0.61      0.61     89977\n",
            "weighted avg       0.70      0.72      0.68     89977\n",
            "\n",
            "Validation Accuracy: 0.7141714082503556\n",
            "Validation Confusion Matrix:\n",
            " [[6936  628]\n",
            " [2587 1097]]\n",
            "Validation Classification Report:\n",
            "               precision    recall  f1-score   support\n",
            "\n",
            "           0       0.73      0.92      0.81      7564\n",
            "           1       0.64      0.30      0.41      3684\n",
            "\n",
            "    accuracy                           0.71     11248\n",
            "   macro avg       0.68      0.61      0.61     11248\n",
            "weighted avg       0.70      0.71      0.68     11248\n",
            "\n"
          ]
        }
      ]
    },
    {
      "cell_type": "markdown",
      "source": [
        "Using cross validation to find the best optimal model"
      ],
      "metadata": {
        "id": "KwkMKcJPfrE-"
      }
    },
    {
      "cell_type": "code",
      "source": [
        "from sklearn.ensemble import RandomForestClassifier\n",
        "from sklearn.model_selection import cross_val_score, learning_curve, validation_curve\n",
        "\n",
        "# assume X, y are your data and labels\n",
        "rf = RandomForestClassifier(class_weight='balanced')\n",
        "\n",
        "# Cross-validation\n",
        "cv_scores = cross_val_score(rf, X, y, cv=5)\n",
        "print(f\"Cross-validation scores: {cv_scores}\")\n",
        "print(f\"Mean cross-validation score: {cv_scores.mean():.3f}\")\n",
        "\n",
        "# Learning curves\n",
        "train_sizes, train_scores, test_scores = learning_curve(rf, X, y, cv=5)\n",
        "train_scores_mean = np.mean(train_scores, axis=1)\n",
        "test_scores_mean = np.mean(test_scores, axis=1)\n",
        "plt.plot(train_sizes, train_scores_mean, label='Training score')\n",
        "plt.plot(train_sizes, test_scores_mean, label='Testing score')\n",
        "plt.xlabel('Training set size')\n",
        "plt.ylabel('Accuracy')\n",
        "plt.legend()\n",
        "plt.show()\n",
        "\n",
        "# Validation curves\n",
        "param_range = [10, 50, 100, 200, 500, 1000]\n",
        "train_scores, test_scores = validation_curve(\n",
        "    rf, X, y, param_name='n_estimators', param_range=param_range, cv=5)\n",
        "train_scores_mean = np.mean(train_scores, axis=1)\n",
        "test_scores_mean = np.mean(test_scores, axis=1)\n",
        "plt.plot(param_range, train_scores_mean, label='Training score')\n",
        "plt.plot(param_range, test_scores_mean, label='Testing score')\n",
        "plt.xscale('log')\n",
        "plt.xlabel('n_estimators')\n",
        "plt.ylabel('Accuracy')\n",
        "plt.legend()\n",
        "plt.show()\n"
      ],
      "metadata": {
        "id": "ty6NfRTQxMUn",
        "colab": {
          "base_uri": "https://localhost:8080/",
          "height": 921
        },
        "outputId": "b20fa723-7349-4198-b99d-71dbedcd029c"
      },
      "execution_count": 128,
      "outputs": [
        {
          "output_type": "stream",
          "name": "stdout",
          "text": [
            "Cross-validation scores: [0.66832629 0.65752389 0.63817018 0.64875078 0.67818085]\n",
            "Mean cross-validation score: 0.658\n"
          ]
        },
        {
          "output_type": "display_data",
          "data": {
            "text/plain": [
              "<Figure size 640x480 with 1 Axes>"
            ],
            "image/png": "[encoded data removed]"
          },
          "metadata": {}
        },
        {
          "output_type": "display_data",
          "data": {
            "text/plain": [
              "<Figure size 640x480 with 1 Axes>"
            ],
            "image/png": "[encoded data removed]"
          },
          "metadata": {}
        }
      ]
    },
    {
      "cell_type": "markdown",
      "source": [
        "# Using smoting "
      ],
      "metadata": {
        "id": "EvGJBThR4K2n"
      }
    },
    {
      "cell_type": "code",
      "source": [
        "# assume 'X' is the feature matrix and 'y' is the target variable\n",
        "X_resampled, y_resampled = SMOTE().fit_resample(X, y)\n",
        "\n",
        "# split the resampled data into training and test sets\n",
        "X_train, X_test, y_train, y_test = train_test_split(X_resampled, y_resampled, test_size=0.2, random_state=42)\n",
        "\n",
        "# build the random forest classifier model\n",
        "rf_model = RandomForestClassifier(n_estimators=100, random_state=42)\n",
        "\n",
        "# fit the model on training data\n",
        "rf_model.fit(X_train, y_train)\n",
        "\n",
        "# predict on training and test data\n",
        "y_train_pred = rf_model.predict(X_train)\n",
        "y_test_pred = rf_model.predict(X_test)\n",
        "\n",
        "# calculate accuracy scores\n",
        "train_acc = accuracy_score(y_train, y_train_pred)\n",
        "test_acc = accuracy_score(y_test, y_test_pred)\n",
        "\n",
        "print(\"Training accuracy:\", train_acc)\n",
        "print(\"Test accuracy:\", test_acc)\n",
        "\n",
        "# Print the classification report on the test set\n",
        "report = classification_report(y_train, y_train_pred)\n",
        "print(report)\n",
        "report_2 = classification_report(y_test,y_test_pred)\n",
        "print(report_2)\n",
        "\n"
      ],
      "metadata": {
        "colab": {
          "base_uri": "https://localhost:8080/"
        },
        "id": "AFwurYhp4DY_",
        "outputId": "adde0673-7ad6-409c-bc10-d7b5749eb88a"
      },
      "execution_count": 133,
      "outputs": [
        {
          "output_type": "stream",
          "name": "stdout",
          "text": [
            "Training accuracy: 0.9999669560763645\n",
            "Test accuracy: 0.9938208373261078\n",
            "              precision    recall  f1-score   support\n",
            "\n",
            "           0       1.00      1.00      1.00     60482\n",
            "           1       1.00      1.00      1.00     60569\n",
            "\n",
            "    accuracy                           1.00    121051\n",
            "   macro avg       1.00      1.00      1.00    121051\n",
            "weighted avg       1.00      1.00      1.00    121051\n",
            "\n",
            "              precision    recall  f1-score   support\n",
            "\n",
            "           0       1.00      0.99      0.99     15175\n",
            "           1       0.99      1.00      0.99     15088\n",
            "\n",
            "    accuracy                           0.99     30263\n",
            "   macro avg       0.99      0.99      0.99     30263\n",
            "weighted avg       0.99      0.99      0.99     30263\n",
            "\n"
          ]
        }
      ]
    },
    {
      "cell_type": "code",
      "source": [],
      "metadata": {
        "id": "rklDVzZZ4DVl"
      },
      "execution_count": null,
      "outputs": []
    },
    {
      "cell_type": "code",
      "source": [],
      "metadata": {
        "id": "tNBacsGA4DSV"
      },
      "execution_count": null,
      "outputs": []
    },
    {
      "cell_type": "code",
      "source": [],
      "metadata": {
        "id": "FdAJjNRt4DO7"
      },
      "execution_count": null,
      "outputs": []
    },
    {
      "cell_type": "code",
      "source": [],
      "metadata": {
        "id": "-Jjve_Ok4DMK"
      },
      "execution_count": null,
      "outputs": []
    }
  ]
}